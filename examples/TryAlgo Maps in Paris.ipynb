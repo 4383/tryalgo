{
 "cells": [
  {
   "cell_type": "markdown",
   "metadata": {},
   "source": [
    "# TryAlgo Maps in Paris"
   ]
  },
  {
   "cell_type": "markdown",
   "metadata": {},
   "source": [
    "Here is a demo of the *tryalgo* package over Paris' graph."
   ]
  },
  {
   "cell_type": "markdown",
   "metadata": {},
   "source": [
    "Let's first store the graph in an adjacency list."
   ]
  },
  {
   "cell_type": "code",
   "execution_count": 86,
   "metadata": {
    "collapsed": false
   },
   "outputs": [],
   "source": [
    "with open('paris.txt') as f:\n",
    "    lines = f.read().splitlines()\n",
    "    N, M, T, C, S = map(int, lines[0].split())\n",
    "    paris_coords = []\n",
    "    for i in range(1, N + 1):\n",
    "        paris_coords.append(list(map(float, lines[i].split())))  # Read coords\n",
    "    paris = {node: {} for node in range(N)}\n",
    "    for i in range(N + 1, N + M + 1):\n",
    "        start, end, nb_directions, duration, length = map(int, lines[i].split())\n",
    "        paris[start][end] = length\n",
    "        if nb_directions == 2:\n",
    "            paris[end][start] = length"
   ]
  },
  {
   "cell_type": "markdown",
   "metadata": {},
   "source": [
    "How many nodes?"
   ]
  },
  {
   "cell_type": "code",
   "execution_count": 87,
   "metadata": {
    "collapsed": false
   },
   "outputs": [
    {
     "data": {
      "text/plain": [
       "11348"
      ]
     },
     "execution_count": 87,
     "metadata": {},
     "output_type": "execute_result"
    }
   ],
   "source": [
    "len(paris)"
   ]
  },
  {
   "cell_type": "code",
   "execution_count": 88,
   "metadata": {
    "collapsed": false
   },
   "outputs": [
    {
     "data": {
      "text/plain": [
       "{1079: 113, 2912: 178, 4942: 277}"
      ]
     },
     "execution_count": 88,
     "metadata": {},
     "output_type": "execute_result"
    }
   ],
   "source": [
    "paris[0]"
   ]
  },
  {
   "cell_type": "markdown",
   "metadata": {},
   "source": [
    "Which means the node 0 leads to the node 1079 with cost 113 and so on."
   ]
  },
  {
   "cell_type": "markdown",
   "metadata": {},
   "source": [
    "## Geolocation using geopy"
   ]
  },
  {
   "cell_type": "code",
   "execution_count": 89,
   "metadata": {
    "collapsed": false
   },
   "outputs": [
    {
     "data": {
      "text/plain": [
       "(2.3734794, 48.8448369)"
      ]
     },
     "execution_count": 89,
     "metadata": {},
     "output_type": "execute_result"
    }
   ],
   "source": [
    "from geopy.geocoders import Nominatim\n",
    "\n",
    "geocoder = Nominatim()\n",
    "start = geocoder.geocode(\"Gare de Lyon, Paris\")\n",
    "end = geocoder.geocode(\"Porte d'Italie, Paris\")\n",
    "start.longitude, start.latitude"
   ]
  },
  {
   "cell_type": "markdown",
   "metadata": {},
   "source": [
    "We need a function that provides the index of the closest node in the graph of Paris. The distance between two pairs of latitude and longitude is given by the following `haversine` function:"
   ]
  },
  {
   "cell_type": "code",
   "execution_count": 90,
   "metadata": {
    "collapsed": true
   },
   "outputs": [],
   "source": [
    "from math import radians, cos, sin, asin, sqrt\n",
    "\n",
    "def haversine(lon1, lat1, lon2, lat2):\n",
    "    \"\"\"\n",
    "    Calculate the great circle distance between two points \n",
    "    on the earth (specified in decimal degrees)\n",
    "    \"\"\"\n",
    "    # convert decimal degrees to radians \n",
    "    lon1, lat1, lon2, lat2 = map(radians, [lon1, lat1, lon2, lat2])\n",
    "\n",
    "    # haversine formula \n",
    "    dlon = lon2 - lon1 \n",
    "    dlat = lat2 - lat1 \n",
    "    a = sin(dlat/2)**2 + cos(lat1) * cos(lat2) * sin(dlon/2)**2\n",
    "    c = 2 * asin(sqrt(a)) \n",
    "    r = 6371 # Radius of earth in kilometers. Use 3956 for miles\n",
    "    return c * r\n",
    "\n",
    "def closest_node(coords, location):\n",
    "    dmin = float('inf')\n",
    "    closest = None\n",
    "    for i in range(len(coords)):\n",
    "        d = haversine(coords[i][1], coords[i][0], location.longitude, location.latitude)\n",
    "        if d < dmin:\n",
    "            closest = i\n",
    "            dmin = d\n",
    "    return closest"
   ]
  },
  {
   "cell_type": "markdown",
   "metadata": {},
   "source": [
    "## Visualization using Folium"
   ]
  },
  {
   "cell_type": "code",
   "execution_count": 91,
   "metadata": {
    "collapsed": false
   },
   "outputs": [
    {
     "data": {
      "text/html": [
       "<iframe srcdoc=\"<!DOCTYPE html>\n",
       "<head>\n",
       "  <meta http-equiv=&quot;content-type&quot; content=&quot;text/html; charset=UTF-8&quot; />\n",
       "   <link rel=&quot;stylesheet&quot; href=&quot;https://rawgit.com/andrewgiessel/leafletstuff/master/leaflet.css&quot; />\n",
       "   <script src=&quot;https://cdnjs.cloudflare.com/ajax/libs/leaflet/0.7.3/leaflet.js&quot;></script>\n",
       "\n",
       "   <script src=&quot;https://ajax.googleapis.com/ajax/libs/jquery/1.11.1/jquery.min.js&quot;></script>\n",
       "\n",
       "   <link rel=&quot;stylesheet&quot; href=&quot;https://maxcdn.bootstrapcdn.com/bootstrap/3.2.0/css/bootstrap.min.css&quot;>\n",
       "   <link rel=&quot;stylesheet&quot; href=&quot;https://maxcdn.bootstrapcdn.com/bootstrap/3.2.0/css/bootstrap-theme.min.css&quot;>\n",
       "   <script src=&quot;https://maxcdn.bootstrapcdn.com/bootstrap/3.2.0/js/bootstrap.min.js&quot;></script>\n",
       "\n",
       "   <link href=&quot;https://maxcdn.bootstrapcdn.com/font-awesome/4.1.0/css/font-awesome.min.css&quot; rel=&quot;stylesheet&quot;>\n",
       "\n",
       "   <link rel=&quot;stylesheet&quot; href=&quot;https://rawgit.com/lvoogdt/Leaflet.awesome-markers/2.0/develop/dist/leaflet.awesome-markers.css&quot;>\n",
       "   <script src=&quot;https://rawgithub.com/lvoogdt/Leaflet.awesome-markers/2.0/develop/dist/leaflet.awesome-markers.js&quot;></script>\n",
       "\n",
       "\n",
       "   <link rel=&quot;stylesheet&quot; href=&quot;https://cdnjs.cloudflare.com/ajax/libs/leaflet.markercluster/0.4.0/MarkerCluster.Default.css&quot;>\n",
       "   <link rel=&quot;stylesheet&quot; href=&quot;https://cdnjs.cloudflare.com/ajax/libs/leaflet.markercluster/0.4.0/MarkerCluster.css&quot;>\n",
       "   <script src=&quot;https://cdnjs.cloudflare.com/ajax/libs/leaflet.markercluster/0.4.0/leaflet.markercluster-src.js&quot;></script>\n",
       "   <script src=&quot;https://cdnjs.cloudflare.com/ajax/libs/leaflet.markercluster/0.4.0/leaflet.markercluster.js&quot;></script>\n",
       "\n",
       "   <link rel=&quot;stylesheet&quot; href=&quot;https://birdage.github.io/Leaflet.awesome-markers/dist/leaflet.awesome.rotate.css&quot;>\n",
       "\n",
       "   \n",
       "   \n",
       "   \n",
       "   \n",
       "\n",
       "   <style>\n",
       "\n",
       "      html, body {\n",
       "        width: 100%;\n",
       "        height: 100%;\n",
       "        margin: 0;\n",
       "        padding: 0;\n",
       "      }\n",
       "\n",
       "      #map {\n",
       "        position:absolute;\n",
       "        top:0;\n",
       "        bottom:0;\n",
       "        right:0;\n",
       "        left:0;\n",
       "      }\n",
       "\n",
       "   </style>\n",
       "</head>\n",
       "\n",
       "<body>\n",
       "\n",
       "   <div class=&quot;folium-map&quot; id=&quot;folium_dfe14fa7532d48f3be66712e12858afa&quot; style=&quot;width: 100%; height: 100%&quot;></div>\n",
       "\n",
       "   <script>\n",
       "\n",
       "      \n",
       "\n",
       "      var base_tile = L.tileLayer('https://stamen-tiles-{s}.a.ssl.fastly.net/watercolor/{z}/{x}/{y}.jpg', {\n",
       "          maxZoom: 18,\n",
       "          minZoom: 1,\n",
       "          attribution: 'Map tiles by <a href=&quot;http://stamen.com&quot;>Stamen Design</a>, under <a href=&quot;http://creativecommons.org/licenses/by/3.0&quot;>CC BY 3.0</a>. Data by <a href=&quot;http://openstreetmap.org&quot;>OpenStreetMap</a>, under <a href=&quot;http://creativecommons.org/licenses/by-sa/3.0&quot;>CC BY SA</a>.'\n",
       "      });\n",
       "\n",
       "      var baseLayer = {\n",
       "        &quot;Base Layer&quot;: base_tile\n",
       "      };\n",
       "\n",
       "      /*\n",
       "      addition of the wms layers\n",
       "      */\n",
       "\n",
       "      \n",
       "\n",
       "      /*\n",
       "      addition of the tile layers\n",
       "      */\n",
       "      \n",
       "\n",
       "      /*\n",
       "      list of layers to be added\n",
       "      */\n",
       "      var layer_list = {\n",
       "      \n",
       "      };\n",
       "\n",
       "      /*\n",
       "      Bounding box.\n",
       "      */\n",
       "      var southWest = L.latLng(-90, -180),\n",
       "          northEast = L.latLng(90, 180),\n",
       "          bounds = L.latLngBounds(southWest, northEast);\n",
       "\n",
       "      /*\n",
       "      Creates the map and adds the selected layers\n",
       "      */\n",
       "      var map = L.map('folium_dfe14fa7532d48f3be66712e12858afa', {\n",
       "                                       center:[48.8330293, 2.3618845],\n",
       "                                       zoom: 13,\n",
       "                                       maxBounds: bounds,\n",
       "                                       layers: [base_tile]\n",
       "                                     });\n",
       "\n",
       "      L.control.layers(baseLayer, layer_list).addTo(map);\n",
       "\n",
       "      /*\n",
       "      addition of the image layers\n",
       "      */\n",
       "      \n",
       "      \n",
       "      //cluster group\n",
       "      var clusteredmarkers = L.markerClusterGroup();\n",
       "      //section for adding clustered markers\n",
       "      \n",
       "      //add the clustered markers to the group anyway\n",
       "      map.addLayer(clusteredmarkers);\n",
       "\n",
       "      \n",
       "\n",
       "      \n",
       "\n",
       "      \n",
       "\n",
       "      \n",
       "\n",
       "      \n",
       "\n",
       "      \n",
       "\n",
       "\n",
       "\n",
       "   </script>\n",
       "\n",
       "</body>\" style=\"width: 100%; height: 500px; border: none\"></iframe>"
      ],
      "text/plain": [
       "<folium.folium.Map at 0x10429f9e8>"
      ]
     },
     "execution_count": 91,
     "metadata": {},
     "output_type": "execute_result"
    }
   ],
   "source": [
    "import folium\n",
    "paris_viz = folium.Map(location=(48.8330293, 2.3618845), tiles='Stamen Watercolor', zoom_start=13)\n",
    "paris_viz"
   ]
  },
  {
   "cell_type": "markdown",
   "metadata": {},
   "source": [
    "## Pathfinding using tryalgo"
   ]
  },
  {
   "cell_type": "code",
   "execution_count": 92,
   "metadata": {
    "collapsed": false
   },
   "outputs": [
    {
     "name": "stdout",
     "output_type": "stream",
     "text": [
      "Path found with 61 nodes: [2223, 8790, 4442, 3365, 2029, 4937, 10195, 913, 5207, 1477, 2909, 250, 32, 806, 4494, 3959, 8878, 1732, 5055, 2605, 9019, 3432, 5217, 74, 9125, 6839, 5905, 274, 9382, 10585, 5847, 5287, 10853, 9136, 1, 9572, 9776, 2709, 10826, 1427, 794, 1143, 3830, 6562, 11181, 729, 10703, 3493, 10217, 2069, 9762, 3921, 10139, 10815, 3867, 9627, 4897, 6027, 7527, 4554, 3325]\n"
     ]
    }
   ],
   "source": [
    "from tryalgo.dijkstra import dijkstra\n",
    "\n",
    "source = closest_node(paris_coords, start)\n",
    "target = closest_node(paris_coords, end)\n",
    "dist, prec = dijkstra(paris, paris, source, target)\n",
    "\n",
    "# Let's build the path\n",
    "path = [target]\n",
    "node = target\n",
    "while prec[node] is not None:\n",
    "    node = prec[node]\n",
    "    path.append(node)\n",
    "print('Path found with', len(path), 'nodes:', path[::-1])"
   ]
  },
  {
   "cell_type": "markdown",
   "metadata": {},
   "source": [
    "To finish, let's store all path nodes in GeoJSON format in order to display the path."
   ]
  },
  {
   "cell_type": "code",
   "execution_count": 97,
   "metadata": {
    "collapsed": false
   },
   "outputs": [],
   "source": [
    "import json\n",
    "\n",
    "path_geojson = {\n",
    "    'type': 'FeatureCollection',\n",
    "    'crs': {'type': 'name', 'properties': {'name': 'urn:ogc:def:crs:OGC:1.3:CRS84'}},\n",
    "    'features': []\n",
    "}\n",
    "for i, node in enumerate(path):\n",
    "    path_geojson['features'].append({\n",
    "        'type': 'Feature',\n",
    "        'properties': {\n",
    "            'name': i\n",
    "        },\n",
    "        'geometry': {\n",
    "            'type': 'Point',\n",
    "            'coordinates': [paris_coords[node][1], paris_coords[node][0]]\n",
    "        }\n",
    "    })"
   ]
  },
  {
   "cell_type": "code",
   "execution_count": 98,
   "metadata": {
    "collapsed": false
   },
   "outputs": [
    {
     "data": {
      "text/html": [
       "<iframe srcdoc=\"<!DOCTYPE html>\n",
       "<head>\n",
       "   <meta http-equiv=&quot;content-type&quot; content=&quot;text/html; charset=UTF-8&quot; />\n",
       "   <link rel=&quot;stylesheet&quot; href=&quot;https://cdnjs.cloudflare.com/ajax/libs/leaflet/0.7.3/leaflet.css&quot; />\n",
       "   <script src=&quot;https://cdnjs.cloudflare.com/ajax/libs/leaflet/0.7.3/leaflet.js&quot;></script>\n",
       "   <script src=&quot;https://cdnjs.cloudflare.com/ajax/libs/d3/3.5.5/d3.min.js&quot; charset=&quot;utf-8&quot;></script>\n",
       "   <script src=&quot;https://cdnjs.cloudflare.com/ajax/libs/queue-async/1.0.7/queue.min.js&quot;></script>\n",
       "\n",
       "   \n",
       "   \n",
       "   \n",
       "   \n",
       "\n",
       "   <style>\n",
       "\n",
       "      html, body {\n",
       "        width: 100%;\n",
       "        height: 100%;\n",
       "        margin: 0;\n",
       "        padding: 0;\n",
       "      }\n",
       "\n",
       "      .legend {\n",
       "          padding: 0px 0px;\n",
       "          font: 10px sans-serif;\n",
       "          background: white;\n",
       "          background: rgba(255,255,255,0.8);\n",
       "          box-shadow: 0 0 15px rgba(0,0,0,0.2);\n",
       "          border-radius: 5px;\n",
       "      }\n",
       "\n",
       "      .key path {\n",
       "        display: none;\n",
       "      }\n",
       "\n",
       "   </style>\n",
       "</head>\n",
       "\n",
       "<body>\n",
       "\n",
       "   <div id=&quot;map&quot; style=&quot;width: 100%; height: 100%&quot;></div>\n",
       "\n",
       "   <script>\n",
       "\n",
       "      queue()\n",
       "          .defer(d3.json, 'path.geojson')\n",
       "          .defer(function(callback){callback(null, JSON.parse('{&quot;features&quot;: [{&quot;properties&quot;: {&quot;name&quot;: 0}, &quot;geometry&quot;: {&quot;coordinates&quot;: [2.3594606000000002, 48.819145000000006], &quot;type&quot;: &quot;Point&quot;}, &quot;type&quot;: &quot;Feature&quot;}, {&quot;properties&quot;: {&quot;name&quot;: 1}, &quot;geometry&quot;: {&quot;coordinates&quot;: [2.3592648, 48.8197702], &quot;type&quot;: &quot;Point&quot;}, &quot;type&quot;: &quot;Feature&quot;}, {&quot;properties&quot;: {&quot;name&quot;: 2}, &quot;geometry&quot;: {&quot;coordinates&quot;: [2.3590611000000004, 48.8204177], &quot;type&quot;: &quot;Point&quot;}, &quot;type&quot;: &quot;Feature&quot;}, {&quot;properties&quot;: {&quot;name&quot;: 3}, &quot;geometry&quot;: {&quot;coordinates&quot;: [2.3589592, 48.8207529], &quot;type&quot;: &quot;Point&quot;}, &quot;type&quot;: &quot;Feature&quot;}, {&quot;properties&quot;: {&quot;name&quot;: 4}, &quot;geometry&quot;: {&quot;coordinates&quot;: [2.3588355, 48.8211591], &quot;type&quot;: &quot;Point&quot;}, &quot;type&quot;: &quot;Feature&quot;}, {&quot;properties&quot;: {&quot;name&quot;: 5}, &quot;geometry&quot;: {&quot;coordinates&quot;: [2.358772, 48.8213675], &quot;type&quot;: &quot;Point&quot;}, &quot;type&quot;: &quot;Feature&quot;}, {&quot;properties&quot;: {&quot;name&quot;: 6}, &quot;geometry&quot;: {&quot;coordinates&quot;: [2.3587363000000003, 48.8214817], &quot;type&quot;: &quot;Point&quot;}, &quot;type&quot;: &quot;Feature&quot;}, {&quot;properties&quot;: {&quot;name&quot;: 7}, &quot;geometry&quot;: {&quot;coordinates&quot;: [2.3586919, 48.821621], &quot;type&quot;: &quot;Point&quot;}, &quot;type&quot;: &quot;Feature&quot;}, {&quot;properties&quot;: {&quot;name&quot;: 8}, &quot;geometry&quot;: {&quot;coordinates&quot;: [2.358641, 48.8217804], &quot;type&quot;: &quot;Point&quot;}, &quot;type&quot;: &quot;Feature&quot;}, {&quot;properties&quot;: {&quot;name&quot;: 9}, &quot;geometry&quot;: {&quot;coordinates&quot;: [2.3585052, 48.822208800000006], &quot;type&quot;: &quot;Point&quot;}, &quot;type&quot;: &quot;Feature&quot;}, {&quot;properties&quot;: {&quot;name&quot;: 10}, &quot;geometry&quot;: {&quot;coordinates&quot;: [2.3583262, 48.8227847], &quot;type&quot;: &quot;Point&quot;}, &quot;type&quot;: &quot;Feature&quot;}, {&quot;properties&quot;: {&quot;name&quot;: 11}, &quot;geometry&quot;: {&quot;coordinates&quot;: [2.3582562, 48.8230098], &quot;type&quot;: &quot;Point&quot;}, &quot;type&quot;: &quot;Feature&quot;}, {&quot;properties&quot;: {&quot;name&quot;: 12}, &quot;geometry&quot;: {&quot;coordinates&quot;: [2.3578078000000002, 48.8244504], &quot;type&quot;: &quot;Point&quot;}, &quot;type&quot;: &quot;Feature&quot;}, {&quot;properties&quot;: {&quot;name&quot;: 13}, &quot;geometry&quot;: {&quot;coordinates&quot;: [2.3575884, 48.8251184], &quot;type&quot;: &quot;Point&quot;}, &quot;type&quot;: &quot;Feature&quot;}, {&quot;properties&quot;: {&quot;name&quot;: 14}, &quot;geometry&quot;: {&quot;coordinates&quot;: [2.3573926000000003, 48.8257953], &quot;type&quot;: &quot;Point&quot;}, &quot;type&quot;: &quot;Feature&quot;}, {&quot;properties&quot;: {&quot;name&quot;: 15}, &quot;geometry&quot;: {&quot;coordinates&quot;: [2.3572647, 48.826190600000004], &quot;type&quot;: &quot;Point&quot;}, &quot;type&quot;: &quot;Feature&quot;}, {&quot;properties&quot;: {&quot;name&quot;: 16}, &quot;geometry&quot;: {&quot;coordinates&quot;: [2.3570888, 48.826760300000004], &quot;type&quot;: &quot;Point&quot;}, &quot;type&quot;: &quot;Feature&quot;}, {&quot;properties&quot;: {&quot;name&quot;: 17}, &quot;geometry&quot;: {&quot;coordinates&quot;: [2.3568758, 48.8274315], &quot;type&quot;: &quot;Point&quot;}, &quot;type&quot;: &quot;Feature&quot;}, {&quot;properties&quot;: {&quot;name&quot;: 18}, &quot;geometry&quot;: {&quot;coordinates&quot;: [2.35676, 48.827792800000005], &quot;type&quot;: &quot;Point&quot;}, &quot;type&quot;: &quot;Feature&quot;}, {&quot;properties&quot;: {&quot;name&quot;: 19}, &quot;geometry&quot;: {&quot;coordinates&quot;: [2.3565894000000003, 48.828325], &quot;type&quot;: &quot;Point&quot;}, &quot;type&quot;: &quot;Feature&quot;}, {&quot;properties&quot;: {&quot;name&quot;: 20}, &quot;geometry&quot;: {&quot;coordinates&quot;: [2.3558928000000003, 48.8306679], &quot;type&quot;: &quot;Point&quot;}, &quot;type&quot;: &quot;Feature&quot;}, {&quot;properties&quot;: {&quot;name&quot;: 21}, &quot;geometry&quot;: {&quot;coordinates&quot;: [2.3555412000000002, 48.8309493], &quot;type&quot;: &quot;Point&quot;}, &quot;type&quot;: &quot;Feature&quot;}, {&quot;properties&quot;: {&quot;name&quot;: 22}, &quot;geometry&quot;: {&quot;coordinates&quot;: [2.3556421000000003, 48.830950800000004], &quot;type&quot;: &quot;Point&quot;}, &quot;type&quot;: &quot;Feature&quot;}, {&quot;properties&quot;: {&quot;name&quot;: 23}, &quot;geometry&quot;: {&quot;coordinates&quot;: [2.3561676, 48.831155200000005], &quot;type&quot;: &quot;Point&quot;}, &quot;type&quot;: &quot;Feature&quot;}, {&quot;properties&quot;: {&quot;name&quot;: 24}, &quot;geometry&quot;: {&quot;coordinates&quot;: [2.3562485, 48.8312642], &quot;type&quot;: &quot;Point&quot;}, &quot;type&quot;: &quot;Feature&quot;}, {&quot;properties&quot;: {&quot;name&quot;: 25}, &quot;geometry&quot;: {&quot;coordinates&quot;: [2.3568825, 48.831358900000005], &quot;type&quot;: &quot;Point&quot;}, &quot;type&quot;: &quot;Feature&quot;}, {&quot;properties&quot;: {&quot;name&quot;: 26}, &quot;geometry&quot;: {&quot;coordinates&quot;: [2.3579381, 48.8317022], &quot;type&quot;: &quot;Point&quot;}, &quot;type&quot;: &quot;Feature&quot;}, {&quot;properties&quot;: {&quot;name&quot;: 27}, &quot;geometry&quot;: {&quot;coordinates&quot;: [2.3582931, 48.8318213], &quot;type&quot;: &quot;Point&quot;}, &quot;type&quot;: &quot;Feature&quot;}, {&quot;properties&quot;: {&quot;name&quot;: 28}, &quot;geometry&quot;: {&quot;coordinates&quot;: [2.3589387, 48.8320341], &quot;type&quot;: &quot;Point&quot;}, &quot;type&quot;: &quot;Feature&quot;}, {&quot;properties&quot;: {&quot;name&quot;: 29}, &quot;geometry&quot;: {&quot;coordinates&quot;: [2.3617543000000003, 48.832980400000004], &quot;type&quot;: &quot;Point&quot;}, &quot;type&quot;: &quot;Feature&quot;}, {&quot;properties&quot;: {&quot;name&quot;: 30}, &quot;geometry&quot;: {&quot;coordinates&quot;: [2.3618845, 48.8330293], &quot;type&quot;: &quot;Point&quot;}, &quot;type&quot;: &quot;Feature&quot;}, {&quot;properties&quot;: {&quot;name&quot;: 31}, &quot;geometry&quot;: {&quot;coordinates&quot;: [2.3634124, 48.833532500000004], &quot;type&quot;: &quot;Point&quot;}, &quot;type&quot;: &quot;Feature&quot;}, {&quot;properties&quot;: {&quot;name&quot;: 32}, &quot;geometry&quot;: {&quot;coordinates&quot;: [2.3647768, 48.833978300000005], &quot;type&quot;: &quot;Point&quot;}, &quot;type&quot;: &quot;Feature&quot;}, {&quot;properties&quot;: {&quot;name&quot;: 33}, &quot;geometry&quot;: {&quot;coordinates&quot;: [2.3669865000000003, 48.834720100000006], &quot;type&quot;: &quot;Point&quot;}, &quot;type&quot;: &quot;Feature&quot;}, {&quot;properties&quot;: {&quot;name&quot;: 34}, &quot;geometry&quot;: {&quot;coordinates&quot;: [2.3670916, 48.8347531], &quot;type&quot;: &quot;Point&quot;}, &quot;type&quot;: &quot;Feature&quot;}, {&quot;properties&quot;: {&quot;name&quot;: 35}, &quot;geometry&quot;: {&quot;coordinates&quot;: [2.3688832, 48.835349], &quot;type&quot;: &quot;Point&quot;}, &quot;type&quot;: &quot;Feature&quot;}, {&quot;properties&quot;: {&quot;name&quot;: 36}, &quot;geometry&quot;: {&quot;coordinates&quot;: [2.3692631, 48.835477600000004], &quot;type&quot;: &quot;Point&quot;}, &quot;type&quot;: &quot;Feature&quot;}, {&quot;properties&quot;: {&quot;name&quot;: 37}, &quot;geometry&quot;: {&quot;coordinates&quot;: [2.3696998000000002, 48.8356228], &quot;type&quot;: &quot;Point&quot;}, &quot;type&quot;: &quot;Feature&quot;}, {&quot;properties&quot;: {&quot;name&quot;: 38}, &quot;geometry&quot;: {&quot;coordinates&quot;: [2.3698368000000003, 48.8356684], &quot;type&quot;: &quot;Point&quot;}, &quot;type&quot;: &quot;Feature&quot;}, {&quot;properties&quot;: {&quot;name&quot;: 39}, &quot;geometry&quot;: {&quot;coordinates&quot;: [2.3704720000000004, 48.8359516], &quot;type&quot;: &quot;Point&quot;}, &quot;type&quot;: &quot;Feature&quot;}, {&quot;properties&quot;: {&quot;name&quot;: 40}, &quot;geometry&quot;: {&quot;coordinates&quot;: [2.3713522, 48.8363674], &quot;type&quot;: &quot;Point&quot;}, &quot;type&quot;: &quot;Feature&quot;}, {&quot;properties&quot;: {&quot;name&quot;: 41}, &quot;geometry&quot;: {&quot;coordinates&quot;: [2.3718850000000002, 48.8366783], &quot;type&quot;: &quot;Point&quot;}, &quot;type&quot;: &quot;Feature&quot;}, {&quot;properties&quot;: {&quot;name&quot;: 42}, &quot;geometry&quot;: {&quot;coordinates&quot;: [2.3728826, 48.837220900000005], &quot;type&quot;: &quot;Point&quot;}, &quot;type&quot;: &quot;Feature&quot;}, {&quot;properties&quot;: {&quot;name&quot;: 43}, &quot;geometry&quot;: {&quot;coordinates&quot;: [2.3736544, 48.8375695], &quot;type&quot;: &quot;Point&quot;}, &quot;type&quot;: &quot;Feature&quot;}, {&quot;properties&quot;: {&quot;name&quot;: 44}, &quot;geometry&quot;: {&quot;coordinates&quot;: [2.3757336000000002, 48.838659400000004], &quot;type&quot;: &quot;Point&quot;}, &quot;type&quot;: &quot;Feature&quot;}, {&quot;properties&quot;: {&quot;name&quot;: 45}, &quot;geometry&quot;: {&quot;coordinates&quot;: [2.3761270000000003, 48.838907000000006], &quot;type&quot;: &quot;Point&quot;}, &quot;type&quot;: &quot;Feature&quot;}, {&quot;properties&quot;: {&quot;name&quot;: 46}, &quot;geometry&quot;: {&quot;coordinates&quot;: [2.3788399, 48.8403633], &quot;type&quot;: &quot;Point&quot;}, &quot;type&quot;: &quot;Feature&quot;}, {&quot;properties&quot;: {&quot;name&quot;: 47}, &quot;geometry&quot;: {&quot;coordinates&quot;: [2.3788178, 48.840553], &quot;type&quot;: &quot;Point&quot;}, &quot;type&quot;: &quot;Feature&quot;}, {&quot;properties&quot;: {&quot;name&quot;: 48}, &quot;geometry&quot;: {&quot;coordinates&quot;: [2.3783517, 48.8409252], &quot;type&quot;: &quot;Point&quot;}, &quot;type&quot;: &quot;Feature&quot;}, {&quot;properties&quot;: {&quot;name&quot;: 49}, &quot;geometry&quot;: {&quot;coordinates&quot;: [2.376398, 48.8420902], &quot;type&quot;: &quot;Point&quot;}, &quot;type&quot;: &quot;Feature&quot;}, {&quot;properties&quot;: {&quot;name&quot;: 50}, &quot;geometry&quot;: {&quot;coordinates&quot;: [2.3724474, 48.844331600000004], &quot;type&quot;: &quot;Point&quot;}, &quot;type&quot;: &quot;Feature&quot;}, {&quot;properties&quot;: {&quot;name&quot;: 51}, &quot;geometry&quot;: {&quot;coordinates&quot;: [2.3722156, 48.844489800000005], &quot;type&quot;: &quot;Point&quot;}, &quot;type&quot;: &quot;Feature&quot;}, {&quot;properties&quot;: {&quot;name&quot;: 52}, &quot;geometry&quot;: {&quot;coordinates&quot;: [2.3715546, 48.845103], &quot;type&quot;: &quot;Point&quot;}, &quot;type&quot;: &quot;Feature&quot;}, {&quot;properties&quot;: {&quot;name&quot;: 53}, &quot;geometry&quot;: {&quot;coordinates&quot;: [2.3709755, 48.845481500000005], &quot;type&quot;: &quot;Point&quot;}, &quot;type&quot;: &quot;Feature&quot;}, {&quot;properties&quot;: {&quot;name&quot;: 54}, &quot;geometry&quot;: {&quot;coordinates&quot;: [2.3709441, 48.8455553], &quot;type&quot;: &quot;Point&quot;}, &quot;type&quot;: &quot;Feature&quot;}, {&quot;properties&quot;: {&quot;name&quot;: 55}, &quot;geometry&quot;: {&quot;coordinates&quot;: [2.3712013, 48.8455822], &quot;type&quot;: &quot;Point&quot;}, &quot;type&quot;: &quot;Feature&quot;}, {&quot;properties&quot;: {&quot;name&quot;: 56}, &quot;geometry&quot;: {&quot;coordinates&quot;: [2.3720304000000003, 48.845677], &quot;type&quot;: &quot;Point&quot;}, &quot;type&quot;: &quot;Feature&quot;}, {&quot;properties&quot;: {&quot;name&quot;: 57}, &quot;geometry&quot;: {&quot;coordinates&quot;: [2.3720494000000003, 48.8455944], &quot;type&quot;: &quot;Point&quot;}, &quot;type&quot;: &quot;Feature&quot;}, {&quot;properties&quot;: {&quot;name&quot;: 58}, &quot;geometry&quot;: {&quot;coordinates&quot;: [2.3722018, 48.8453415], &quot;type&quot;: &quot;Point&quot;}, &quot;type&quot;: &quot;Feature&quot;}, {&quot;properties&quot;: {&quot;name&quot;: 59}, &quot;geometry&quot;: {&quot;coordinates&quot;: [2.372262, 48.845385], &quot;type&quot;: &quot;Point&quot;}, &quot;type&quot;: &quot;Feature&quot;}, {&quot;properties&quot;: {&quot;name&quot;: 60}, &quot;geometry&quot;: {&quot;coordinates&quot;: [2.3729183000000003, 48.8448888], &quot;type&quot;: &quot;Point&quot;}, &quot;type&quot;: &quot;Feature&quot;}], &quot;crs&quot;: {&quot;properties&quot;: {&quot;name&quot;: &quot;urn:ogc:def:crs:OGC:1.3:CRS84&quot;}, &quot;type&quot;: &quot;name&quot;}, &quot;type&quot;: &quot;FeatureCollection&quot;}'))})\n",
       "          .defer(function(callback){callback(null, JSON.parse('{&quot;features&quot;: [{&quot;properties&quot;: {&quot;name&quot;: 0}, &quot;geometry&quot;: {&quot;coordinates&quot;: [2.3594606000000002, 48.819145000000006], &quot;type&quot;: &quot;Point&quot;}, &quot;type&quot;: &quot;Feature&quot;}, {&quot;properties&quot;: {&quot;name&quot;: 1}, &quot;geometry&quot;: {&quot;coordinates&quot;: [2.3592648, 48.8197702], &quot;type&quot;: &quot;Point&quot;}, &quot;type&quot;: &quot;Feature&quot;}, {&quot;properties&quot;: {&quot;name&quot;: 2}, &quot;geometry&quot;: {&quot;coordinates&quot;: [2.3590611000000004, 48.8204177], &quot;type&quot;: &quot;Point&quot;}, &quot;type&quot;: &quot;Feature&quot;}, {&quot;properties&quot;: {&quot;name&quot;: 3}, &quot;geometry&quot;: {&quot;coordinates&quot;: [2.3589592, 48.8207529], &quot;type&quot;: &quot;Point&quot;}, &quot;type&quot;: &quot;Feature&quot;}, {&quot;properties&quot;: {&quot;name&quot;: 4}, &quot;geometry&quot;: {&quot;coordinates&quot;: [2.3588355, 48.8211591], &quot;type&quot;: &quot;Point&quot;}, &quot;type&quot;: &quot;Feature&quot;}, {&quot;properties&quot;: {&quot;name&quot;: 5}, &quot;geometry&quot;: {&quot;coordinates&quot;: [2.358772, 48.8213675], &quot;type&quot;: &quot;Point&quot;}, &quot;type&quot;: &quot;Feature&quot;}, {&quot;properties&quot;: {&quot;name&quot;: 6}, &quot;geometry&quot;: {&quot;coordinates&quot;: [2.3587363000000003, 48.8214817], &quot;type&quot;: &quot;Point&quot;}, &quot;type&quot;: &quot;Feature&quot;}, {&quot;properties&quot;: {&quot;name&quot;: 7}, &quot;geometry&quot;: {&quot;coordinates&quot;: [2.3586919, 48.821621], &quot;type&quot;: &quot;Point&quot;}, &quot;type&quot;: &quot;Feature&quot;}, {&quot;properties&quot;: {&quot;name&quot;: 8}, &quot;geometry&quot;: {&quot;coordinates&quot;: [2.358641, 48.8217804], &quot;type&quot;: &quot;Point&quot;}, &quot;type&quot;: &quot;Feature&quot;}, {&quot;properties&quot;: {&quot;name&quot;: 9}, &quot;geometry&quot;: {&quot;coordinates&quot;: [2.3585052, 48.822208800000006], &quot;type&quot;: &quot;Point&quot;}, &quot;type&quot;: &quot;Feature&quot;}, {&quot;properties&quot;: {&quot;name&quot;: 10}, &quot;geometry&quot;: {&quot;coordinates&quot;: [2.3583262, 48.8227847], &quot;type&quot;: &quot;Point&quot;}, &quot;type&quot;: &quot;Feature&quot;}, {&quot;properties&quot;: {&quot;name&quot;: 11}, &quot;geometry&quot;: {&quot;coordinates&quot;: [2.3582562, 48.8230098], &quot;type&quot;: &quot;Point&quot;}, &quot;type&quot;: &quot;Feature&quot;}, {&quot;properties&quot;: {&quot;name&quot;: 12}, &quot;geometry&quot;: {&quot;coordinates&quot;: [2.3578078000000002, 48.8244504], &quot;type&quot;: &quot;Point&quot;}, &quot;type&quot;: &quot;Feature&quot;}, {&quot;properties&quot;: {&quot;name&quot;: 13}, &quot;geometry&quot;: {&quot;coordinates&quot;: [2.3575884, 48.8251184], &quot;type&quot;: &quot;Point&quot;}, &quot;type&quot;: &quot;Feature&quot;}, {&quot;properties&quot;: {&quot;name&quot;: 14}, &quot;geometry&quot;: {&quot;coordinates&quot;: [2.3573926000000003, 48.8257953], &quot;type&quot;: &quot;Point&quot;}, &quot;type&quot;: &quot;Feature&quot;}, {&quot;properties&quot;: {&quot;name&quot;: 15}, &quot;geometry&quot;: {&quot;coordinates&quot;: [2.3572647, 48.826190600000004], &quot;type&quot;: &quot;Point&quot;}, &quot;type&quot;: &quot;Feature&quot;}, {&quot;properties&quot;: {&quot;name&quot;: 16}, &quot;geometry&quot;: {&quot;coordinates&quot;: [2.3570888, 48.826760300000004], &quot;type&quot;: &quot;Point&quot;}, &quot;type&quot;: &quot;Feature&quot;}, {&quot;properties&quot;: {&quot;name&quot;: 17}, &quot;geometry&quot;: {&quot;coordinates&quot;: [2.3568758, 48.8274315], &quot;type&quot;: &quot;Point&quot;}, &quot;type&quot;: &quot;Feature&quot;}, {&quot;properties&quot;: {&quot;name&quot;: 18}, &quot;geometry&quot;: {&quot;coordinates&quot;: [2.35676, 48.827792800000005], &quot;type&quot;: &quot;Point&quot;}, &quot;type&quot;: &quot;Feature&quot;}, {&quot;properties&quot;: {&quot;name&quot;: 19}, &quot;geometry&quot;: {&quot;coordinates&quot;: [2.3565894000000003, 48.828325], &quot;type&quot;: &quot;Point&quot;}, &quot;type&quot;: &quot;Feature&quot;}, {&quot;properties&quot;: {&quot;name&quot;: 20}, &quot;geometry&quot;: {&quot;coordinates&quot;: [2.3558928000000003, 48.8306679], &quot;type&quot;: &quot;Point&quot;}, &quot;type&quot;: &quot;Feature&quot;}, {&quot;properties&quot;: {&quot;name&quot;: 21}, &quot;geometry&quot;: {&quot;coordinates&quot;: [2.3555412000000002, 48.8309493], &quot;type&quot;: &quot;Point&quot;}, &quot;type&quot;: &quot;Feature&quot;}, {&quot;properties&quot;: {&quot;name&quot;: 22}, &quot;geometry&quot;: {&quot;coordinates&quot;: [2.3556421000000003, 48.830950800000004], &quot;type&quot;: &quot;Point&quot;}, &quot;type&quot;: &quot;Feature&quot;}, {&quot;properties&quot;: {&quot;name&quot;: 23}, &quot;geometry&quot;: {&quot;coordinates&quot;: [2.3561676, 48.831155200000005], &quot;type&quot;: &quot;Point&quot;}, &quot;type&quot;: &quot;Feature&quot;}, {&quot;properties&quot;: {&quot;name&quot;: 24}, &quot;geometry&quot;: {&quot;coordinates&quot;: [2.3562485, 48.8312642], &quot;type&quot;: &quot;Point&quot;}, &quot;type&quot;: &quot;Feature&quot;}, {&quot;properties&quot;: {&quot;name&quot;: 25}, &quot;geometry&quot;: {&quot;coordinates&quot;: [2.3568825, 48.831358900000005], &quot;type&quot;: &quot;Point&quot;}, &quot;type&quot;: &quot;Feature&quot;}, {&quot;properties&quot;: {&quot;name&quot;: 26}, &quot;geometry&quot;: {&quot;coordinates&quot;: [2.3579381, 48.8317022], &quot;type&quot;: &quot;Point&quot;}, &quot;type&quot;: &quot;Feature&quot;}, {&quot;properties&quot;: {&quot;name&quot;: 27}, &quot;geometry&quot;: {&quot;coordinates&quot;: [2.3582931, 48.8318213], &quot;type&quot;: &quot;Point&quot;}, &quot;type&quot;: &quot;Feature&quot;}, {&quot;properties&quot;: {&quot;name&quot;: 28}, &quot;geometry&quot;: {&quot;coordinates&quot;: [2.3589387, 48.8320341], &quot;type&quot;: &quot;Point&quot;}, &quot;type&quot;: &quot;Feature&quot;}, {&quot;properties&quot;: {&quot;name&quot;: 29}, &quot;geometry&quot;: {&quot;coordinates&quot;: [2.3617543000000003, 48.832980400000004], &quot;type&quot;: &quot;Point&quot;}, &quot;type&quot;: &quot;Feature&quot;}, {&quot;properties&quot;: {&quot;name&quot;: 30}, &quot;geometry&quot;: {&quot;coordinates&quot;: [2.3618845, 48.8330293], &quot;type&quot;: &quot;Point&quot;}, &quot;type&quot;: &quot;Feature&quot;}, {&quot;properties&quot;: {&quot;name&quot;: 31}, &quot;geometry&quot;: {&quot;coordinates&quot;: [2.3634124, 48.833532500000004], &quot;type&quot;: &quot;Point&quot;}, &quot;type&quot;: &quot;Feature&quot;}, {&quot;properties&quot;: {&quot;name&quot;: 32}, &quot;geometry&quot;: {&quot;coordinates&quot;: [2.3647768, 48.833978300000005], &quot;type&quot;: &quot;Point&quot;}, &quot;type&quot;: &quot;Feature&quot;}, {&quot;properties&quot;: {&quot;name&quot;: 33}, &quot;geometry&quot;: {&quot;coordinates&quot;: [2.3669865000000003, 48.834720100000006], &quot;type&quot;: &quot;Point&quot;}, &quot;type&quot;: &quot;Feature&quot;}, {&quot;properties&quot;: {&quot;name&quot;: 34}, &quot;geometry&quot;: {&quot;coordinates&quot;: [2.3670916, 48.8347531], &quot;type&quot;: &quot;Point&quot;}, &quot;type&quot;: &quot;Feature&quot;}, {&quot;properties&quot;: {&quot;name&quot;: 35}, &quot;geometry&quot;: {&quot;coordinates&quot;: [2.3688832, 48.835349], &quot;type&quot;: &quot;Point&quot;}, &quot;type&quot;: &quot;Feature&quot;}, {&quot;properties&quot;: {&quot;name&quot;: 36}, &quot;geometry&quot;: {&quot;coordinates&quot;: [2.3692631, 48.835477600000004], &quot;type&quot;: &quot;Point&quot;}, &quot;type&quot;: &quot;Feature&quot;}, {&quot;properties&quot;: {&quot;name&quot;: 37}, &quot;geometry&quot;: {&quot;coordinates&quot;: [2.3696998000000002, 48.8356228], &quot;type&quot;: &quot;Point&quot;}, &quot;type&quot;: &quot;Feature&quot;}, {&quot;properties&quot;: {&quot;name&quot;: 38}, &quot;geometry&quot;: {&quot;coordinates&quot;: [2.3698368000000003, 48.8356684], &quot;type&quot;: &quot;Point&quot;}, &quot;type&quot;: &quot;Feature&quot;}, {&quot;properties&quot;: {&quot;name&quot;: 39}, &quot;geometry&quot;: {&quot;coordinates&quot;: [2.3704720000000004, 48.8359516], &quot;type&quot;: &quot;Point&quot;}, &quot;type&quot;: &quot;Feature&quot;}, {&quot;properties&quot;: {&quot;name&quot;: 40}, &quot;geometry&quot;: {&quot;coordinates&quot;: [2.3713522, 48.8363674], &quot;type&quot;: &quot;Point&quot;}, &quot;type&quot;: &quot;Feature&quot;}, {&quot;properties&quot;: {&quot;name&quot;: 41}, &quot;geometry&quot;: {&quot;coordinates&quot;: [2.3718850000000002, 48.8366783], &quot;type&quot;: &quot;Point&quot;}, &quot;type&quot;: &quot;Feature&quot;}, {&quot;properties&quot;: {&quot;name&quot;: 42}, &quot;geometry&quot;: {&quot;coordinates&quot;: [2.3728826, 48.837220900000005], &quot;type&quot;: &quot;Point&quot;}, &quot;type&quot;: &quot;Feature&quot;}, {&quot;properties&quot;: {&quot;name&quot;: 43}, &quot;geometry&quot;: {&quot;coordinates&quot;: [2.3736544, 48.8375695], &quot;type&quot;: &quot;Point&quot;}, &quot;type&quot;: &quot;Feature&quot;}, {&quot;properties&quot;: {&quot;name&quot;: 44}, &quot;geometry&quot;: {&quot;coordinates&quot;: [2.3757336000000002, 48.838659400000004], &quot;type&quot;: &quot;Point&quot;}, &quot;type&quot;: &quot;Feature&quot;}, {&quot;properties&quot;: {&quot;name&quot;: 45}, &quot;geometry&quot;: {&quot;coordinates&quot;: [2.3761270000000003, 48.838907000000006], &quot;type&quot;: &quot;Point&quot;}, &quot;type&quot;: &quot;Feature&quot;}, {&quot;properties&quot;: {&quot;name&quot;: 46}, &quot;geometry&quot;: {&quot;coordinates&quot;: [2.3788399, 48.8403633], &quot;type&quot;: &quot;Point&quot;}, &quot;type&quot;: &quot;Feature&quot;}, {&quot;properties&quot;: {&quot;name&quot;: 47}, &quot;geometry&quot;: {&quot;coordinates&quot;: [2.3788178, 48.840553], &quot;type&quot;: &quot;Point&quot;}, &quot;type&quot;: &quot;Feature&quot;}, {&quot;properties&quot;: {&quot;name&quot;: 48}, &quot;geometry&quot;: {&quot;coordinates&quot;: [2.3783517, 48.8409252], &quot;type&quot;: &quot;Point&quot;}, &quot;type&quot;: &quot;Feature&quot;}, {&quot;properties&quot;: {&quot;name&quot;: 49}, &quot;geometry&quot;: {&quot;coordinates&quot;: [2.376398, 48.8420902], &quot;type&quot;: &quot;Point&quot;}, &quot;type&quot;: &quot;Feature&quot;}, {&quot;properties&quot;: {&quot;name&quot;: 50}, &quot;geometry&quot;: {&quot;coordinates&quot;: [2.3724474, 48.844331600000004], &quot;type&quot;: &quot;Point&quot;}, &quot;type&quot;: &quot;Feature&quot;}, {&quot;properties&quot;: {&quot;name&quot;: 51}, &quot;geometry&quot;: {&quot;coordinates&quot;: [2.3722156, 48.844489800000005], &quot;type&quot;: &quot;Point&quot;}, &quot;type&quot;: &quot;Feature&quot;}, {&quot;properties&quot;: {&quot;name&quot;: 52}, &quot;geometry&quot;: {&quot;coordinates&quot;: [2.3715546, 48.845103], &quot;type&quot;: &quot;Point&quot;}, &quot;type&quot;: &quot;Feature&quot;}, {&quot;properties&quot;: {&quot;name&quot;: 53}, &quot;geometry&quot;: {&quot;coordinates&quot;: [2.3709755, 48.845481500000005], &quot;type&quot;: &quot;Point&quot;}, &quot;type&quot;: &quot;Feature&quot;}, {&quot;properties&quot;: {&quot;name&quot;: 54}, &quot;geometry&quot;: {&quot;coordinates&quot;: [2.3709441, 48.8455553], &quot;type&quot;: &quot;Point&quot;}, &quot;type&quot;: &quot;Feature&quot;}, {&quot;properties&quot;: {&quot;name&quot;: 55}, &quot;geometry&quot;: {&quot;coordinates&quot;: [2.3712013, 48.8455822], &quot;type&quot;: &quot;Point&quot;}, &quot;type&quot;: &quot;Feature&quot;}, {&quot;properties&quot;: {&quot;name&quot;: 56}, &quot;geometry&quot;: {&quot;coordinates&quot;: [2.3720304000000003, 48.845677], &quot;type&quot;: &quot;Point&quot;}, &quot;type&quot;: &quot;Feature&quot;}, {&quot;properties&quot;: {&quot;name&quot;: 57}, &quot;geometry&quot;: {&quot;coordinates&quot;: [2.3720494000000003, 48.8455944], &quot;type&quot;: &quot;Point&quot;}, &quot;type&quot;: &quot;Feature&quot;}, {&quot;properties&quot;: {&quot;name&quot;: 58}, &quot;geometry&quot;: {&quot;coordinates&quot;: [2.3722018, 48.8453415], &quot;type&quot;: &quot;Point&quot;}, &quot;type&quot;: &quot;Feature&quot;}, {&quot;properties&quot;: {&quot;name&quot;: 59}, &quot;geometry&quot;: {&quot;coordinates&quot;: [2.372262, 48.845385], &quot;type&quot;: &quot;Point&quot;}, &quot;type&quot;: &quot;Feature&quot;}, {&quot;properties&quot;: {&quot;name&quot;: 60}, &quot;geometry&quot;: {&quot;coordinates&quot;: [2.3729183000000003, 48.8448888], &quot;type&quot;: &quot;Point&quot;}, &quot;type&quot;: &quot;Feature&quot;}], &quot;crs&quot;: {&quot;properties&quot;: {&quot;name&quot;: &quot;urn:ogc:def:crs:OGC:1.3:CRS84&quot;}, &quot;type&quot;: &quot;name&quot;}, &quot;type&quot;: &quot;FeatureCollection&quot;}'))})\n",
       "          .await(makeMap)\n",
       "\n",
       "      function onEachFeature(feature, layer) {\n",
       "          // does this feature have a property named popupContent?\n",
       "          if (feature.properties && feature.properties.popupContent) {\n",
       "              layer.bindPopup(feature.properties.popupContent);\n",
       "              }\n",
       "          };\n",
       "\n",
       "      function makeMap(error, gjson_1,gjson_2,gjson_3) {\n",
       "\n",
       "          \n",
       "\n",
       "          \n",
       "\n",
       "          function matchKey(datapoint, key_variable){\n",
       "              if (typeof key_variable[0][datapoint] === 'undefined') {\n",
       "                  return null;\n",
       "              }\n",
       "              else {\n",
       "                  return parseFloat(key_variable[0][datapoint]);\n",
       "              };\n",
       "          };\n",
       "\n",
       "          \n",
       "\n",
       "          var map = L.map('map').setView([48.8330293, 2.3618845], 13);\n",
       "\n",
       "          L.tileLayer('https://stamen-tiles-{s}.a.ssl.fastly.net/watercolor/{z}/{x}/{y}.jpg', {\n",
       "              maxZoom: 18,\n",
       "              minZoom: 1,\n",
       "              attribution: 'Map tiles by <a href=&quot;http://stamen.com&quot;>Stamen Design</a>, under <a href=&quot;http://creativecommons.org/licenses/by/3.0&quot;>CC BY 3.0</a>. Data by <a href=&quot;http://openstreetmap.org&quot;>OpenStreetMap</a>, under <a href=&quot;http://creativecommons.org/licenses/by-sa/3.0&quot;>CC BY SA</a>.'\n",
       "          }).addTo(map);\n",
       "\n",
       "          \n",
       "          function style_1(feature) {\n",
       "    return {\n",
       "        fillColor: 'blue',\n",
       "        weight: 1,\n",
       "        opacity: 1,\n",
       "        color: 'black',\n",
       "        fillOpacity: 0.6\n",
       "    };\n",
       "}\n",
       "          \n",
       "          function style_2(feature) {\n",
       "    return {\n",
       "        fillColor: 'blue',\n",
       "        weight: 1,\n",
       "        opacity: 1,\n",
       "        color: 'black',\n",
       "        fillOpacity: 0.6\n",
       "    };\n",
       "}\n",
       "          \n",
       "          function style_3(feature) {\n",
       "    return {\n",
       "        fillColor: 'blue',\n",
       "        weight: 1,\n",
       "        opacity: 1,\n",
       "        color: 'black',\n",
       "        fillOpacity: 0.6\n",
       "    };\n",
       "}\n",
       "          \n",
       "\n",
       "          \n",
       "          gJson_layer_1 = L.geoJson(gjson_1, {style: style_1,onEachFeature: onEachFeature}).addTo(map)\n",
       "          \n",
       "          gJson_layer_2 = L.geoJson(gjson_2, {style: style_2,onEachFeature: onEachFeature}).addTo(map)\n",
       "          \n",
       "          gJson_layer_3 = L.geoJson(gjson_3, {style: style_3,onEachFeature: onEachFeature}).addTo(map)\n",
       "          \n",
       "\n",
       "          \n",
       "\n",
       "          \n",
       "\n",
       "          \n",
       "\n",
       "          \n",
       "\n",
       "          \n",
       "\n",
       "          \n",
       "\n",
       "          \n",
       "\n",
       "      };\n",
       "\n",
       "   </script>\n",
       "</body>\" style=\"width: 100%; height: 500px; border: none\"></iframe>"
      ],
      "text/plain": [
       "<folium.folium.Map at 0x10429f9e8>"
      ]
     },
     "execution_count": 98,
     "metadata": {},
     "output_type": "execute_result"
    }
   ],
   "source": [
    "paris_viz.geo_json(geo_str=json.dumps(path_geojson))\n",
    "paris_viz"
   ]
  },
  {
   "cell_type": "markdown",
   "metadata": {},
   "source": [
    "Did you like this demo? If so, please let us know on the GitHub project!\n",
    "https://github.com/jilljenn/tryalgo"
   ]
  }
 ],
 "metadata": {
  "kernelspec": {
   "display_name": "Python 3",
   "language": "python",
   "name": "python3"
  },
  "language_info": {
   "codemirror_mode": {
    "name": "ipython",
    "version": 3
   },
   "file_extension": ".py",
   "mimetype": "text/x-python",
   "name": "python",
   "nbconvert_exporter": "python",
   "pygments_lexer": "ipython3",
   "version": "3.4.3"
  }
 },
 "nbformat": 4,
 "nbformat_minor": 0
}
